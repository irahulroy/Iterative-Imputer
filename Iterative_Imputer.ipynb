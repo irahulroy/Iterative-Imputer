{
  "nbformat": 4,
  "nbformat_minor": 0,
  "metadata": {
    "colab": {
      "name": "Iterative Imputer.ipynb",
      "provenance": [],
      "collapsed_sections": [],
      "mount_file_id": "1Drc1SCt1XJAJHtYE4z-OogWOX2Re4AGu",
      "authorship_tag": "ABX9TyP8kdW0IIc3LVC1DkosU2oz",
      "include_colab_link": true
    },
    "kernelspec": {
      "name": "python3",
      "display_name": "Python 3"
    }
  },
  "cells": [
    {
      "cell_type": "markdown",
      "metadata": {
        "id": "view-in-github",
        "colab_type": "text"
      },
      "source": [
        "<a href=\"https://colab.research.google.com/github/rahulroynit/Iterative-Imputer/blob/master/Iterative_Imputer.ipynb\" target=\"_parent\"><img src=\"https://colab.research.google.com/assets/colab-badge.svg\" alt=\"Open In Colab\"/></a>"
      ]
    },
    {
      "cell_type": "code",
      "metadata": {
        "id": "dRao6Su7GiSQ",
        "colab_type": "code",
        "colab": {}
      },
      "source": [
        "# import dependencies\n",
        "import numpy as np\n",
        "import pandas as pd\n",
        "import matplotlib.pyplot as plt\n",
        "from sklearn.datasets import fetch_california_housing\n",
        "from sklearn.experimental import enable_iterative_imputer\n",
        "from sklearn.impute import IterativeImputer\n",
        "from sklearn.pipeline import Pipeline\n",
        "from sklearn.model_selection import RepeatedKFold, cross_val_score, train_test_split\n",
        "from sklearn.ensemble import ExtraTreesRegressor\n",
        "from sklearn.linear_model import BayesianRidge\n",
        "from sklearn.preprocessing import MinMaxScaler \n",
        "import warnings"
      ],
      "execution_count": 1,
      "outputs": []
    },
    {
      "cell_type": "code",
      "metadata": {
        "id": "B3_iTkD5TaNg",
        "colab_type": "code",
        "colab": {}
      },
      "source": [
        "# drop warnings during run-time\n",
        "warnings.filterwarnings(action = 'ignore')"
      ],
      "execution_count": 2,
      "outputs": []
    },
    {
      "cell_type": "code",
      "metadata": {
        "id": "kaUX1vNpUB3o",
        "colab_type": "code",
        "colab": {
          "base_uri": "https://localhost:8080/",
          "height": 34
        },
        "outputId": "1d08d0ec-ae98-4a2a-9ebe-2cbeeb3054c5"
      },
      "source": [
        "# load data\n",
        "X, y = fetch_california_housing(return_X_y=True)\n",
        "print(type(X), type(y), X.shape, y.shape)"
      ],
      "execution_count": 3,
      "outputs": [
        {
          "output_type": "stream",
          "text": [
            "<class 'numpy.ndarray'> <class 'numpy.ndarray'> (20640, 8) (20640,)\n"
          ],
          "name": "stdout"
        }
      ]
    },
    {
      "cell_type": "code",
      "metadata": {
        "id": "vblSu7_OFqeJ",
        "colab_type": "code",
        "colab": {
          "base_uri": "https://localhost:8080/",
          "height": 34
        },
        "outputId": "f56f7ebf-1101-4fa6-9443-f3b1cbea510c"
      },
      "source": [
        "# reshape y into 1-D array\n",
        "y = y.reshape((-1, 1))\n",
        "print(y.shape)"
      ],
      "execution_count": 4,
      "outputs": [
        {
          "output_type": "stream",
          "text": [
            "(20640, 1)\n"
          ],
          "name": "stdout"
        }
      ]
    },
    {
      "cell_type": "code",
      "metadata": {
        "id": "STSfm5gIUOik",
        "colab_type": "code",
        "colab": {
          "base_uri": "https://localhost:8080/",
          "height": 443
        },
        "outputId": "94bebee1-c453-41c9-962f-af0e788517ab"
      },
      "source": [
        "# query data\n",
        "print(pd.DataFrame(X).info(), pd.DataFrame(y).info())"
      ],
      "execution_count": 5,
      "outputs": [
        {
          "output_type": "stream",
          "text": [
            "<class 'pandas.core.frame.DataFrame'>\n",
            "RangeIndex: 20640 entries, 0 to 20639\n",
            "Data columns (total 8 columns):\n",
            " #   Column  Non-Null Count  Dtype  \n",
            "---  ------  --------------  -----  \n",
            " 0   0       20640 non-null  float64\n",
            " 1   1       20640 non-null  float64\n",
            " 2   2       20640 non-null  float64\n",
            " 3   3       20640 non-null  float64\n",
            " 4   4       20640 non-null  float64\n",
            " 5   5       20640 non-null  float64\n",
            " 6   6       20640 non-null  float64\n",
            " 7   7       20640 non-null  float64\n",
            "dtypes: float64(8)\n",
            "memory usage: 1.3 MB\n",
            "<class 'pandas.core.frame.DataFrame'>\n",
            "RangeIndex: 20640 entries, 0 to 20639\n",
            "Data columns (total 1 columns):\n",
            " #   Column  Non-Null Count  Dtype  \n",
            "---  ------  --------------  -----  \n",
            " 0   0       20640 non-null  float64\n",
            "dtypes: float64(1)\n",
            "memory usage: 161.4 KB\n",
            "None None\n"
          ],
          "name": "stdout"
        }
      ]
    },
    {
      "cell_type": "code",
      "metadata": {
        "id": "0wz4Jcm2e8nG",
        "colab_type": "code",
        "colab": {
          "base_uri": "https://localhost:8080/",
          "height": 123
        },
        "outputId": "783b8c81-68d1-4b25-d8b2-379ef85c3c96"
      },
      "source": [
        "# check data\n",
        "print(pd.DataFrame(X).head())"
      ],
      "execution_count": 6,
      "outputs": [
        {
          "output_type": "stream",
          "text": [
            "        0     1         2         3       4         5      6       7\n",
            "0  8.3252  41.0  6.984127  1.023810   322.0  2.555556  37.88 -122.23\n",
            "1  8.3014  21.0  6.238137  0.971880  2401.0  2.109842  37.86 -122.22\n",
            "2  7.2574  52.0  8.288136  1.073446   496.0  2.802260  37.85 -122.24\n",
            "3  5.6431  52.0  5.817352  1.073059   558.0  2.547945  37.85 -122.25\n",
            "4  3.8462  52.0  6.281853  1.081081   565.0  2.181467  37.85 -122.25\n"
          ],
          "name": "stdout"
        }
      ]
    },
    {
      "cell_type": "code",
      "metadata": {
        "id": "LGFVNYEN_D-G",
        "colab_type": "code",
        "colab": {
          "base_uri": "https://localhost:8080/",
          "height": 34
        },
        "outputId": "5669e2ff-04a6-4ddd-d424-3f83bc06770c"
      },
      "source": [
        "# create train and test split\n",
        "X_train, X_test, y_train, y_test = train_test_split(X, y, test_size = 0.2, shuffle = True)\n",
        "print(X_train.shape, y_train.shape, X_test.shape, y_test.shape)"
      ],
      "execution_count": 7,
      "outputs": [
        {
          "output_type": "stream",
          "text": [
            "(16512, 8) (16512, 1) (4128, 8) (4128, 1)\n"
          ],
          "name": "stdout"
        }
      ]
    },
    {
      "cell_type": "code",
      "metadata": {
        "id": "orLugBO3PDmh",
        "colab_type": "code",
        "colab": {}
      },
      "source": [
        "# cv performance on complete data\n",
        "def cv_score_complete_data(X_train, y_train):\n",
        "  # create cv object\n",
        "  cv_comp = RepeatedKFold(n_splits = 5, n_repeats = 10, random_state = 2020)\n",
        "  # create pipeline\n",
        "  pipe_comp = Pipeline(steps = [('minmax', MinMaxScaler()), ('xtrees', ExtraTreesRegressor())])\n",
        "  # cv score\n",
        "  cv_score_comp = cross_val_score(pipe_comp, X_train, y_train, scoring = 'neg_root_mean_squared_error', cv = cv_comp)\n",
        "  # print mean and std of cv score\n",
        "  print('CV score (RMSE) on complete data')\n",
        "  print(f'mean cv score = {-1*np.mean(cv_score_comp)} \\nstd cv score = {np.std(cv_score_comp)}')\n",
        "  return cv_score_comp"
      ],
      "execution_count": 8,
      "outputs": []
    },
    {
      "cell_type": "code",
      "metadata": {
        "id": "UT4Z2yu0SWZu",
        "colab_type": "code",
        "colab": {
          "base_uri": "https://localhost:8080/",
          "height": 70
        },
        "outputId": "07c9cd93-1cc7-47f9-fb5b-032f3dd2179e"
      },
      "source": [
        "# check cv performance on complete data\n",
        "cv_comp = cv_score_complete_data(X_train, y_train)"
      ],
      "execution_count": 9,
      "outputs": [
        {
          "output_type": "stream",
          "text": [
            "CV score (RMSE) on complete data\n",
            "mean cv score = 0.5039324395260599 \n",
            "std cv score = 0.011052019501703408\n"
          ],
          "name": "stdout"
        }
      ]
    },
    {
      "cell_type": "code",
      "metadata": {
        "id": "Cb0Vo7DCZ5LF",
        "colab_type": "code",
        "colab": {
          "base_uri": "https://localhost:8080/",
          "height": 34
        },
        "outputId": "0ad6f004-fbe7-4caa-ee0f-fce455a7f91b"
      },
      "source": [
        "# create a copy of X_train as a dataframe and add missing values to it \n",
        "X_missing = pd.DataFrame(X_train.copy())\n",
        "print(X_missing.shape)"
      ],
      "execution_count": 10,
      "outputs": [
        {
          "output_type": "stream",
          "text": [
            "(16512, 8)\n"
          ],
          "name": "stdout"
        }
      ]
    },
    {
      "cell_type": "code",
      "metadata": {
        "id": "AH-ZcuvxeIuu",
        "colab_type": "code",
        "colab": {}
      },
      "source": [
        "# insert n missing values\n",
        "n = 2000\n",
        "for column in X_missing.columns:\n",
        "  rand_idx = np.random.choice(X_missing.shape[0], size = n, replace = False)\n",
        "  X_missing.iloc[rand_idx, column] = np.nan"
      ],
      "execution_count": 11,
      "outputs": []
    },
    {
      "cell_type": "code",
      "metadata": {
        "id": "3dwOOXJhHBbZ",
        "colab_type": "code",
        "colab": {
          "base_uri": "https://localhost:8080/",
          "height": 176
        },
        "outputId": "90b438e4-883b-44ef-b312-b321dacff130"
      },
      "source": [
        "# count of missing values\n",
        "print(X_missing.isna().sum())"
      ],
      "execution_count": 12,
      "outputs": [
        {
          "output_type": "stream",
          "text": [
            "0    2000\n",
            "1    2000\n",
            "2    2000\n",
            "3    2000\n",
            "4    2000\n",
            "5    2000\n",
            "6    2000\n",
            "7    2000\n",
            "dtype: int64\n"
          ],
          "name": "stdout"
        }
      ]
    },
    {
      "cell_type": "code",
      "metadata": {
        "id": "WGowS78ihXCp",
        "colab_type": "code",
        "colab": {
          "base_uri": "https://localhost:8080/",
          "height": 472
        },
        "outputId": "420521fe-c2f5-4fbb-a534-6ced4840659c"
      },
      "source": [
        "# visualize missing data\n",
        "import missingno as msno\n",
        "msno.matrix(X_missing)"
      ],
      "execution_count": 13,
      "outputs": [
        {
          "output_type": "execute_result",
          "data": {
            "text/plain": [
              "<matplotlib.axes._subplots.AxesSubplot at 0x7f0802ba2cc0>"
            ]
          },
          "metadata": {
            "tags": []
          },
          "execution_count": 13
        },
        {
          "output_type": "display_data",
          "data": {
            "image/png": "[encoded data removed]",
            "text/plain": [
              "<Figure size 1800x720 with 2 Axes>"
            ]
          },
          "metadata": {
            "tags": [],
            "needs_background": "light"
          }
        }
      ]
    },
    {
      "cell_type": "code",
      "metadata": {
        "id": "djaUUXJ_bxFQ",
        "colab_type": "code",
        "colab": {
          "base_uri": "https://localhost:8080/",
          "height": 34
        },
        "outputId": "95c6c24b-6e14-4780-850f-5e645ffe6c7c"
      },
      "source": [
        "# array of missing data X\n",
        "X_train_missing = np.array(X_missing)\n",
        "print(X_train_missing.shape)"
      ],
      "execution_count": 14,
      "outputs": [
        {
          "output_type": "stream",
          "text": [
            "(16512, 8)\n"
          ],
          "name": "stdout"
        }
      ]
    },
    {
      "cell_type": "code",
      "metadata": {
        "id": "Mmohd6RxDRxg",
        "colab_type": "code",
        "colab": {}
      },
      "source": [
        "# cv performance on imputed data with no missing data indicator\n",
        "def cv_score_missing_data(X_train_missing, y_train):\n",
        "  # creta cv object\n",
        "  cv_impute = RepeatedKFold(n_splits = 5, n_repeats = 10, random_state = 2020)\n",
        "  # create pipeline\n",
        "  pipe_impute = Pipeline(steps = [('imputer', IterativeImputer(estimator = BayesianRidge())), ('minmax', MinMaxScaler()),\n",
        "                                  ('xtrees', ExtraTreesRegressor())])\n",
        "  # cv score\n",
        "  cv_score_impute = cross_val_score(pipe_impute, X_missing, y_train, scoring = 'neg_root_mean_squared_error', cv = cv_impute)\n",
        "  # print mean and std of cv score\n",
        "  print('CV score (RMSE) on imputed data with no missing data indicator')\n",
        "  print(f'mean cv score = {-1*np.mean(cv_score_impute)} \\nstd cv score = {np.std(cv_score_impute)}')\n",
        "  return cv_score_impute"
      ],
      "execution_count": 15,
      "outputs": []
    },
    {
      "cell_type": "code",
      "metadata": {
        "id": "7qOuK8OLcRBq",
        "colab_type": "code",
        "colab": {
          "base_uri": "https://localhost:8080/",
          "height": 70
        },
        "outputId": "0e7b3b49-6523-4baa-efcc-ce01aa9ef941"
      },
      "source": [
        "# check cv performance on missing data with no indicator\n",
        "cv_impute = cv_score_missing_data(X_train_missing, y_train)"
      ],
      "execution_count": 16,
      "outputs": [
        {
          "output_type": "stream",
          "text": [
            "CV score (RMSE) on imputed data with no missing data indicator\n",
            "mean cv score = 0.5766163182542637 \n",
            "std cv score = 0.012654539973048988\n"
          ],
          "name": "stdout"
        }
      ]
    },
    {
      "cell_type": "code",
      "metadata": {
        "id": "t10B_yC2d7a2",
        "colab_type": "code",
        "colab": {}
      },
      "source": [
        "# cv performance on imputed data with missing data indicator\n",
        "def cv_score_missing_data_indicator(X_train_missing, y_train):\n",
        "  # creta cv object\n",
        "  cv_impute = RepeatedKFold(n_splits = 5, n_repeats = 10, random_state = 2020)\n",
        "  # create pipeline\n",
        "  pipe_impute = Pipeline(steps = [('imputer', IterativeImputer(estimator = BayesianRidge(), add_indicator = True)), \n",
        "                                  ('minmax', MinMaxScaler()), ('xtrees', ExtraTreesRegressor())])\n",
        "  # cv score\n",
        "  cv_score_impute = cross_val_score(pipe_impute, X_missing, y_train, scoring = 'neg_root_mean_squared_error', cv = cv_impute)\n",
        "  # print mean and std of cv score\n",
        "  print('CV score (RMSE) on imputed data with missing data indicator')\n",
        "  print(f'mean cv score = {-1*np.mean(cv_score_impute)} \\nstd cv score = {np.std(cv_score_impute)}')\n",
        "  return cv_score_impute"
      ],
      "execution_count": 17,
      "outputs": []
    },
    {
      "cell_type": "code",
      "metadata": {
        "id": "g48YS5KejpuY",
        "colab_type": "code",
        "colab": {
          "base_uri": "https://localhost:8080/",
          "height": 70
        },
        "outputId": "97ab7e3a-1ac6-4e8e-df19-a8e5fa5fa039"
      },
      "source": [
        "# check cv performance on missing data with no indicator\n",
        "cv_impute_indicator = cv_score_missing_data_indicator(X_train_missing, y_train)"
      ],
      "execution_count": 18,
      "outputs": [
        {
          "output_type": "stream",
          "text": [
            "CV score (RMSE) on imputed data with missing data indicator\n",
            "mean cv score = 0.5702905323062278 \n",
            "std cv score = 0.012372402944412263\n"
          ],
          "name": "stdout"
        }
      ]
    },
    {
      "cell_type": "code",
      "metadata": {
        "id": "0FZ12KBzjv_W",
        "colab_type": "code",
        "colab": {}
      },
      "source": [
        "# cv keys and values\n",
        "keys = [\"cv_complete\", \"cv_imputed\", \"cv_imputed_indicator\"]\n",
        "vals = [-1*np.mean(cv_comp), -1*np.mean(cv_impute), -1*np.mean(cv_impute_indicator)]"
      ],
      "execution_count": 21,
      "outputs": []
    },
    {
      "cell_type": "code",
      "metadata": {
        "id": "X9cltYShk5qm",
        "colab_type": "code",
        "colab": {
          "base_uri": "https://localhost:8080/",
          "height": 285
        },
        "outputId": "2ac2967b-35c6-4ce7-9b4e-4550c8843ef5"
      },
      "source": [
        "# plot the cv performance\n",
        "plt.bar(keys, vals)"
      ],
      "execution_count": 22,
      "outputs": [
        {
          "output_type": "execute_result",
          "data": {
            "text/plain": [
              "<BarContainer object of 3 artists>"
            ]
          },
          "metadata": {
            "tags": []
          },
          "execution_count": 22
        },
        {
          "output_type": "display_data",
          "data": {
            "image/png": "[encoded data removed]",
            "text/plain": [
              "<Figure size 432x288 with 1 Axes>"
            ]
          },
          "metadata": {
            "tags": [],
            "needs_background": "light"
          }
        }
      ]
    }
  ]
}